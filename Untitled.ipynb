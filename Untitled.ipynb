{
 "cells": [
  {
   "cell_type": "code",
   "execution_count": 12,
   "id": "a9633d18",
   "metadata": {},
   "outputs": [
    {
     "data": {
      "text/plain": [
       "'C:\\\\Users\\\\danis\\\\Desktop\\\\Migration'"
      ]
     },
     "execution_count": 12,
     "metadata": {},
     "output_type": "execute_result"
    }
   ],
   "source": [
    "import os\n",
    "current_folder=os.getcwd()\n",
    "current_folder"
   ]
  },
  {
   "cell_type": "code",
   "execution_count": 18,
   "id": "98975ec6",
   "metadata": {},
   "outputs": [
    {
     "data": {
      "text/plain": [
       "['.ipynb_checkpoints',\n",
       " 'Children Bicycles.json',\n",
       " 'Children Bicycles.xlsx',\n",
       " 'Children Bicycles11.csv',\n",
       " 'collected_data.xlsx',\n",
       " 'Comfort Bicycles.json',\n",
       " 'Comfort Bicycles.xlsx',\n",
       " 'Comfort Bicycles11.csv',\n",
       " 'Cruisers Bicycles.json',\n",
       " 'Cruisers Bicycles.xlsx',\n",
       " 'Cruisers Bicycles11.csv',\n",
       " 'Cyclocross Bicycles.json',\n",
       " 'Cyclocross Bicycles.xlsx',\n",
       " 'Cyclocross Bicycles11.csv',\n",
       " 'Electric Bikes.json',\n",
       " 'Electric Bikes.xlsx',\n",
       " 'Electric Bikes11.csv',\n",
       " 'Mountain Bikes.json',\n",
       " 'Mountain Bikes.xlsx',\n",
       " 'Mountain Bikes11.csv',\n",
       " 'Road Bikes.json',\n",
       " 'Road Bikes.xlsx',\n",
       " 'Road Bikes11.csv',\n",
       " 'Untitled.ipynb']"
      ]
     },
     "execution_count": 18,
     "metadata": {},
     "output_type": "execute_result"
    }
   ],
   "source": [
    "files=os.listdir(os.getcwd())\n",
    "files"
   ]
  },
  {
   "cell_type": "code",
   "execution_count": 19,
   "id": "8edad211",
   "metadata": {},
   "outputs": [],
   "source": [
    "def export(files):\n",
    "    import pandas as pd\n",
    "    sales=pd.DataFrame()\n",
    "    for file in files:\n",
    "        \n",
    "        if os.path.join(file).split(\".\")[-1]==\"xlsx\":\n",
    "            df=pd.read_excel(file)\n",
    "            sales=sales.append(df,ignore_index=True)\n",
    "        elif os.path.join(file).split(\".\")[-1]==\"csv\":\n",
    "            df=pd.read_csv(file)\n",
    "            sales=sales.append(df,ignore_index=True)\n",
    "        elif os.path.join(file).split(\".\")[-1]==\"json\":\n",
    "            df=pd.read_json(file,lines=True)\n",
    "            sales=sales.append(df,ignore_index=True)\n",
    "        else:\n",
    "            continue\n",
    "    sales.to_csv(r\"C:\\Users\\danis\\Desktop\\Migration\\collected_data.csv\",index=False)  \n",
    "    return \"it has been imported succesfully\""
   ]
  },
  {
   "cell_type": "code",
   "execution_count": 20,
   "id": "be8efb72",
   "metadata": {},
   "outputs": [
    {
     "data": {
      "text/plain": [
       "'it has been imported succesfully'"
      ]
     },
     "execution_count": 20,
     "metadata": {},
     "output_type": "execute_result"
    }
   ],
   "source": [
    "export (os.listdir(os.getcwd()))"
   ]
  },
  {
   "cell_type": "code",
   "execution_count": null,
   "id": "c766b254",
   "metadata": {},
   "outputs": [],
   "source": []
  }
 ],
 "metadata": {
  "kernelspec": {
   "display_name": "Python 3 (ipykernel)",
   "language": "python",
   "name": "python3"
  },
  "language_info": {
   "codemirror_mode": {
    "name": "ipython",
    "version": 3
   },
   "file_extension": ".py",
   "mimetype": "text/x-python",
   "name": "python",
   "nbconvert_exporter": "python",
   "pygments_lexer": "ipython3",
   "version": "3.10.1"
  }
 },
 "nbformat": 4,
 "nbformat_minor": 5
}
